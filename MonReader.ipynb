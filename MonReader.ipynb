{
 "cells": [
  {
   "cell_type": "code",
   "execution_count": 1,
   "id": "ff4dac7d-3dfc-4c51-af3e-5002bfffc667",
   "metadata": {},
   "outputs": [],
   "source": [
    "#import packages to be able to read image files and convert to arrays for learning\n",
    "import numpy as np\n",
    "import pandas as pd\n",
    "import matplotlib.pyplot as plt\n",
    "import os\n",
    "from PIL import Image,ImageOps"
   ]
  },
  {
   "cell_type": "code",
   "execution_count": 2,
   "id": "950b79a9-4a03-4189-b14c-11da96067461",
   "metadata": {},
   "outputs": [],
   "source": [
    "#Build Training data\n",
    "X_train=[]\n",
    "y_train=[]\n",
    "#Load arrays for each of the positive classes in training data and add a label of 1\n",
    "src=\"images/training/flip/\"\n",
    "files=os.listdir(src)\n",
    "for file in files:\n",
    "    X_train.append(np.array(Image.open(src+file)))\n",
    "    y_train.append(1)"
   ]
  },
  {
   "cell_type": "code",
   "execution_count": 3,
   "id": "992f3794-9d04-434e-a785-356605577329",
   "metadata": {},
   "outputs": [],
   "source": [
    "#load arrays for each of the negative classes in training data and add a label of 0\n",
    "src=\"images/training/notflip/\"\n",
    "files=os.listdir(src)\n",
    "for file in files:\n",
    "    X_train.append(np.array(Image.open(src+file)))\n",
    "    y_train.append(0)"
   ]
  },
  {
   "cell_type": "code",
   "execution_count": 4,
   "id": "1ddd4f7e-96f6-4347-9846-b7baf8273199",
   "metadata": {},
   "outputs": [],
   "source": [
    "#Build test data\n",
    "X_test=[]\n",
    "y_test=[]\n",
    "#load arrays for each of the positive classes in test data and add a label of 1\n",
    "src=\"images/testing/flip/\"\n",
    "files=os.listdir(src)\n",
    "for file in files:\n",
    "    X_test.append(np.array(Image.open(src+file)))\n",
    "    y_test.append(1)"
   ]
  },
  {
   "cell_type": "code",
   "execution_count": 5,
   "id": "75aa2e4a-e816-47bc-bdd3-b9bc994ebc7c",
   "metadata": {},
   "outputs": [],
   "source": [
    "#load arrays for each of the negative classes in test data and add a label of 0\n",
    "src=\"images/testing/notflip/\"\n",
    "files=os.listdir(src)\n",
    "for file in files:\n",
    "    X_test.append(np.array(Image.open(src+file)))\n",
    "    y_test.append(0)"
   ]
  },
  {
   "cell_type": "code",
   "execution_count": 6,
   "id": "c742759a-f9d6-4a7a-8d1c-f9d159257952",
   "metadata": {},
   "outputs": [],
   "source": [
    "#convert the training and test data sets to arrays\n",
    "X_train=np.array(X_train)\n",
    "X_test=np.array(X_test)"
   ]
  },
  {
   "cell_type": "code",
   "execution_count": 7,
   "id": "d13562ad-57b0-4177-ba3a-614b8f9ff553",
   "metadata": {},
   "outputs": [
    {
     "data": {
      "text/plain": [
       "(2392, 1920, 1080, 3)"
      ]
     },
     "execution_count": 7,
     "metadata": {},
     "output_type": "execute_result"
    }
   ],
   "source": [
    "X_train.shape"
   ]
  },
  {
   "cell_type": "code",
   "execution_count": 8,
   "id": "36a88a91-4bce-4dcd-ac50-ed982b377ad1",
   "metadata": {},
   "outputs": [
    {
     "data": {
      "text/plain": [
       "(597, 1920, 1080, 3)"
      ]
     },
     "execution_count": 8,
     "metadata": {},
     "output_type": "execute_result"
    }
   ],
   "source": [
    "X_test.shape"
   ]
  },
  {
   "cell_type": "code",
   "execution_count": 9,
   "id": "b31d3359-b3b3-495c-b4d3-69c445f0ea69",
   "metadata": {},
   "outputs": [],
   "source": [
    "from tensorflow.keras.models import Sequential\n",
    "from tensorflow.keras.layers import Dense,Conv3D,MaxPooling3D,Flatten,MaxPooling2D,Conv2D"
   ]
  },
  {
   "cell_type": "code",
   "execution_count": 10,
   "id": "622d0188-3d6c-497a-b9d6-b30d8e1c4c9d",
   "metadata": {},
   "outputs": [],
   "source": [
    "y_train=np.array(y_train)\n",
    "y_test=np.array(y_test)"
   ]
  },
  {
   "cell_type": "code",
   "execution_count": null,
   "id": "1174a790-24fc-4b5c-a717-9b64d4270367",
   "metadata": {},
   "outputs": [],
   "source": []
  },
  {
   "cell_type": "code",
   "execution_count": 11,
   "id": "6edf7124-c4c1-47c9-a372-4f60c345b08b",
   "metadata": {},
   "outputs": [],
   "source": [
    "#Create the model  \n",
    "cnn=Sequential()\n",
    "#initially 32 convolution nodes\n",
    "cnn.add(Conv2D(32,(3,3),padding=\"same\",activation='relu',input_shape=X_train.shape[1:]))\n",
    "#add a Max Pooling layer\n",
    "cnn.add(MaxPooling2D())\n",
    "#another 16 convolution nodes\n",
    "cnn.add(Conv2D(16,(3,3),padding=\"same\",activation='relu'))\n",
    "#Add a max pooling\n",
    "cnn.add(MaxPooling2D())\n",
    "#Add 8 convolutions\n",
    "cnn.add(Conv2D(8,(2,2),padding=\"same\",activation='relu'))\n",
    "#Add a max pooling\n",
    "cnn.add(MaxPooling2D())\n",
    "#Flatten before adding fully connected layer\n",
    "cnn.add(Flatten())\n",
    "#Add a hidden layer with 50 nodes\n",
    "cnn.add(Dense(50,activation='relu'))\n",
    "#Add another hidden layer with 2 nodes\n",
    "cnn.add(Dense(25,activation='relu'))\n",
    "#Add final output layer with 3 output nodes using softmax\n",
    "cnn.add(Dense(1,activation='sigmoid'))"
   ]
  },
  {
   "cell_type": "code",
   "execution_count": 12,
   "id": "07ab4f3e-2123-41db-825a-590e5e06c660",
   "metadata": {},
   "outputs": [
    {
     "name": "stdout",
     "output_type": "stream",
     "text": [
      "Model: \"sequential\"\n",
      "_________________________________________________________________\n",
      " Layer (type)                Output Shape              Param #   \n",
      "=================================================================\n",
      " conv2d (Conv2D)             (None, 1920, 1080, 32)    896       \n",
      "                                                                 \n",
      " max_pooling2d (MaxPooling2D  (None, 960, 540, 32)     0         \n",
      " )                                                               \n",
      "                                                                 \n",
      " conv2d_1 (Conv2D)           (None, 960, 540, 16)      4624      \n",
      "                                                                 \n",
      " max_pooling2d_1 (MaxPooling  (None, 480, 270, 16)     0         \n",
      " 2D)                                                             \n",
      "                                                                 \n",
      " conv2d_2 (Conv2D)           (None, 480, 270, 8)       520       \n",
      "                                                                 \n",
      " max_pooling2d_2 (MaxPooling  (None, 240, 135, 8)      0         \n",
      " 2D)                                                             \n",
      "                                                                 \n",
      " flatten (Flatten)           (None, 259200)            0         \n",
      "                                                                 \n",
      " dense (Dense)               (None, 50)                12960050  \n",
      "                                                                 \n",
      " dense_1 (Dense)             (None, 25)                1275      \n",
      "                                                                 \n",
      " dense_2 (Dense)             (None, 1)                 26        \n",
      "                                                                 \n",
      "=================================================================\n",
      "Total params: 12,967,391\n",
      "Trainable params: 12,967,391\n",
      "Non-trainable params: 0\n",
      "_________________________________________________________________\n"
     ]
    }
   ],
   "source": [
    "cnn.summary()"
   ]
  },
  {
   "cell_type": "code",
   "execution_count": 13,
   "id": "eeb6f1f8-7098-41f4-8844-e10ec439d562",
   "metadata": {},
   "outputs": [],
   "source": [
    "cnn.compile(optimizer='adam',loss='binary_crossentropy',metrics='accuracy')"
   ]
  },
  {
   "cell_type": "code",
   "execution_count": null,
   "id": "956b06be-217a-44d0-be45-dec56e32346b",
   "metadata": {},
   "outputs": [
    {
     "name": "stdout",
     "output_type": "stream",
     "text": [
      "Epoch 1/10\n"
     ]
    }
   ],
   "source": [
    "history=cnn.fit(X_train,y_train,epochs=10,validation_split=0.2)"
   ]
  },
  {
   "cell_type": "code",
   "execution_count": null,
   "id": "3f8a73ee-3b6d-49c4-a8a8-92f42f2494e7",
   "metadata": {},
   "outputs": [],
   "source": []
  }
 ],
 "metadata": {
  "kernelspec": {
   "display_name": "Python 3 (ipykernel)",
   "language": "python",
   "name": "python3"
  },
  "language_info": {
   "codemirror_mode": {
    "name": "ipython",
    "version": 3
   },
   "file_extension": ".py",
   "mimetype": "text/x-python",
   "name": "python",
   "nbconvert_exporter": "python",
   "pygments_lexer": "ipython3",
   "version": "3.9.7"
  }
 },
 "nbformat": 4,
 "nbformat_minor": 5
}
