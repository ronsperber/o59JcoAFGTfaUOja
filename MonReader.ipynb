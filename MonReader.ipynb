{
 "cells": [
  {
   "cell_type": "code",
   "execution_count": 1,
   "id": "ffb51006-427c-4371-adc3-75bca7317933",
   "metadata": {},
   "outputs": [],
   "source": [
    "#import packages to be able to read image files and convert to arrays for learning, plotting and getting metrics on predictions\n",
    "import numpy as np\n",
    "import pandas as pd\n",
    "import matplotlib.pyplot as plt\n",
    "import os\n",
    "import seaborn as sns\n",
    "from sklearn.metrics import precision_score,recall_score,accuracy_score,f1_score,confusion_matrix,classification_report\n",
    "from PIL import Image,ImageOps"
   ]
  },
  {
   "cell_type": "code",
   "execution_count": 2,
   "id": "a8b2b7ef-e2a2-4ee4-8878-79a052fb573b",
   "metadata": {},
   "outputs": [],
   "source": [
    "#Build Training data\n",
    "X_train=[]\n",
    "y_train=[]\n",
    "#Load arrays for each of the positive classes in training data and add a label of 1\n",
    "src=\"images/training/flip/\"\n",
    "files=os.listdir(src)\n",
    "for file in files:\n",
    "    X_train.append(np.array(ImageOps.grayscale(Image.open(src+file))))\n",
    "    y_train.append(1)"
   ]
  },
  {
   "cell_type": "code",
   "execution_count": 3,
   "id": "a65677e0-d627-4c50-b70d-4a795621b82a",
   "metadata": {},
   "outputs": [],
   "source": [
    "#load arrays for each of the negative classes in training data and add a label of 0\n",
    "src=\"images/training/notflip/\"\n",
    "files=os.listdir(src)\n",
    "for file in files:\n",
    "    X_train.append(np.array(ImageOps.grayscale(Image.open(src+file))))\n",
    "    y_train.append(0)"
   ]
  },
  {
   "cell_type": "code",
   "execution_count": 4,
   "id": "3c7bd360-f169-4873-9696-21805537e52f",
   "metadata": {},
   "outputs": [],
   "source": [
    "#Build test data\n",
    "X_test=[]\n",
    "y_test=[]\n",
    "#load arrays for each of the positive classes in test data and add a label of 1\n",
    "src=\"images/testing/flip/\"\n",
    "files=os.listdir(src)\n",
    "for file in files:\n",
    "    X_test.append(np.array(ImageOps.grayscale(Image.open(src+file))))\n",
    "    y_test.append(1)"
   ]
  },
  {
   "cell_type": "code",
   "execution_count": 5,
   "id": "597ddd00-d881-423e-94a8-e40d52477bbf",
   "metadata": {},
   "outputs": [],
   "source": [
    "#load arrays for each of the negative classes in test data and add a label of 0\n",
    "src=\"images/testing/notflip/\"\n",
    "files=os.listdir(src)\n",
    "for file in files:\n",
    "    X_test.append(np.array(ImageOps.grayscale(Image.open(src+file))))\n",
    "    y_test.append(0)"
   ]
  },
  {
   "cell_type": "code",
   "execution_count": 6,
   "id": "a7628295-1b91-4ac2-a21b-7d393316a481",
   "metadata": {},
   "outputs": [],
   "source": [
    "X_train=np.array(X_train)\n",
    "X_test=np.array(X_test)"
   ]
  },
  {
   "cell_type": "code",
   "execution_count": 7,
   "id": "763f6e49-1754-4035-997f-af6f438ac511",
   "metadata": {},
   "outputs": [],
   "source": [
    "y_train=np.array(y_train)\n",
    "y_test=np.array(y_test)"
   ]
  },
  {
   "cell_type": "code",
   "execution_count": 8,
   "id": "01784833-e675-44fc-b974-a9cfdb5e6413",
   "metadata": {},
   "outputs": [
    {
     "data": {
      "text/plain": [
       "(2392, 1920, 1080)"
      ]
     },
     "execution_count": 8,
     "metadata": {},
     "output_type": "execute_result"
    }
   ],
   "source": [
    "X_train.shape"
   ]
  },
  {
   "cell_type": "code",
   "execution_count": 9,
   "id": "0938d902-8b18-4f39-b135-14fd78f1ca74",
   "metadata": {},
   "outputs": [
    {
     "data": {
      "text/plain": [
       "(597, 1920, 1080)"
      ]
     },
     "execution_count": 9,
     "metadata": {},
     "output_type": "execute_result"
    }
   ],
   "source": [
    "X_test.shape"
   ]
  },
  {
   "cell_type": "code",
   "execution_count": 10,
   "id": "1676c31f-3185-461f-8829-fb28db24290d",
   "metadata": {},
   "outputs": [],
   "source": [
    "#Reshape to make these work for keras neural network\n",
    "X_train=X_train.reshape(2392,1920,1080,1)\n",
    "X_test=X_test.reshape(597,1920,1080,1)"
   ]
  },
  {
   "cell_type": "code",
   "execution_count": 12,
   "id": "a9db085d-d13d-4d49-9610-55958d5cb39c",
   "metadata": {},
   "outputs": [],
   "source": [
    "#Import packages to build neural network\n",
    "from tensorflow.keras.models import Sequential\n",
    "from tensorflow.keras.layers import Dense,Conv2D,MaxPooling2D,Flatten"
   ]
  },
  {
   "cell_type": "code",
   "execution_count": 13,
   "id": "3a6df78e-777b-47b3-804c-6d96daae1b86",
   "metadata": {},
   "outputs": [],
   "source": [
    "#Create the model\n",
    "cnn=Sequential()\n",
    "#initially 16 convolution nodes\n",
    "cnn.add(Conv2D(16,(3,3),padding=\"same\",activation='relu',input_shape=X_train.shape[1:]))\n",
    "#add a Max Pooling layer\n",
    "cnn.add(MaxPooling2D())\n",
    "#another 16 convolution nodes\n",
    "cnn.add(Conv2D(16,(3,3),padding=\"same\",activation='relu'))\n",
    "#Add a max pooling\n",
    "cnn.add(MaxPooling2D())\n",
    "#Add 8 convolutions\n",
    "cnn.add(Conv2D(8,(2,2),padding=\"same\",activation='relu'))\n",
    "#Add a max pooling\n",
    "cnn.add(MaxPooling2D())\n",
    "#Flatten before adding fully connected layer\n",
    "cnn.add(Flatten())\n",
    "#Add a hidden layer with 50 nodes\n",
    "cnn.add(Dense(50,activation='relu'))\n",
    "#Add another hidden layer with 25 nodes\n",
    "cnn.add(Dense(25,activation='relu'))\n",
    "#Add final output layer with 1 output nodes using sigmoid\n",
    "cnn.add(Dense(1,activation='sigmoid'))"
   ]
  },
  {
   "cell_type": "code",
   "execution_count": 14,
   "id": "13116068-5e82-456c-b140-2b62743c0a6e",
   "metadata": {},
   "outputs": [
    {
     "name": "stdout",
     "output_type": "stream",
     "text": [
      "Model: \"sequential\"\n",
      "_________________________________________________________________\n",
      " Layer (type)                Output Shape              Param #   \n",
      "=================================================================\n",
      " conv2d (Conv2D)             (None, 1920, 1080, 16)    160       \n",
      "                                                                 \n",
      " max_pooling2d (MaxPooling2D  (None, 960, 540, 16)     0         \n",
      " )                                                               \n",
      "                                                                 \n",
      " conv2d_1 (Conv2D)           (None, 960, 540, 16)      2320      \n",
      "                                                                 \n",
      " max_pooling2d_1 (MaxPooling  (None, 480, 270, 16)     0         \n",
      " 2D)                                                             \n",
      "                                                                 \n",
      " conv2d_2 (Conv2D)           (None, 480, 270, 8)       520       \n",
      "                                                                 \n",
      " max_pooling2d_2 (MaxPooling  (None, 240, 135, 8)      0         \n",
      " 2D)                                                             \n",
      "                                                                 \n",
      " flatten (Flatten)           (None, 259200)            0         \n",
      "                                                                 \n",
      " dense (Dense)               (None, 50)                12960050  \n",
      "                                                                 \n",
      " dense_1 (Dense)             (None, 25)                1275      \n",
      "                                                                 \n",
      " dense_2 (Dense)             (None, 1)                 26        \n",
      "                                                                 \n",
      "=================================================================\n",
      "Total params: 12,964,351\n",
      "Trainable params: 12,964,351\n",
      "Non-trainable params: 0\n",
      "_________________________________________________________________\n"
     ]
    }
   ],
   "source": [
    "cnn.summary()"
   ]
  },
  {
   "cell_type": "code",
   "execution_count": 15,
   "id": "6dad7f45-5a65-4e23-996b-32e21278013a",
   "metadata": {},
   "outputs": [],
   "source": [
    "cnn.compile(optimizer='adam',loss='binary_crossentropy',metrics='accuracy')"
   ]
  },
  {
   "cell_type": "code",
   "execution_count": 16,
   "id": "695abdf9-2c6e-4de0-848e-58cb20310c3c",
   "metadata": {},
   "outputs": [
    {
     "name": "stdout",
     "output_type": "stream",
     "text": [
      "Epoch 1/10\n",
      "75/75 [==============================] - 1114s 15s/step - loss: 10.2263 - accuracy: 0.7454 - val_loss: 0.1682 - val_accuracy: 0.9414\n",
      "Epoch 2/10\n",
      "75/75 [==============================] - 1071s 14s/step - loss: 0.0677 - accuracy: 0.9758 - val_loss: 0.0439 - val_accuracy: 0.9883\n",
      "Epoch 3/10\n",
      "75/75 [==============================] - 1096s 15s/step - loss: 0.0665 - accuracy: 0.9824 - val_loss: 0.0686 - val_accuracy: 0.9832\n",
      "Epoch 4/10\n",
      "75/75 [==============================] - 1082s 14s/step - loss: 0.0110 - accuracy: 0.9971 - val_loss: 0.0187 - val_accuracy: 0.9933\n",
      "Epoch 5/10\n",
      "75/75 [==============================] - 1078s 14s/step - loss: 3.2321e-04 - accuracy: 1.0000 - val_loss: 0.0227 - val_accuracy: 0.9916\n",
      "Epoch 6/10\n",
      "75/75 [==============================] - 1080s 14s/step - loss: 6.2576e-05 - accuracy: 1.0000 - val_loss: 0.0200 - val_accuracy: 0.9933\n",
      "Epoch 7/10\n",
      "75/75 [==============================] - 1066s 14s/step - loss: 3.7589e-05 - accuracy: 1.0000 - val_loss: 0.0184 - val_accuracy: 0.9933\n",
      "Epoch 8/10\n",
      "75/75 [==============================] - 1062s 14s/step - loss: 2.5324e-05 - accuracy: 1.0000 - val_loss: 0.0170 - val_accuracy: 0.9950\n",
      "Epoch 9/10\n",
      "75/75 [==============================] - 1088s 14s/step - loss: 1.8532e-05 - accuracy: 1.0000 - val_loss: 0.0199 - val_accuracy: 0.9950\n",
      "Epoch 10/10\n",
      "75/75 [==============================] - 1078s 14s/step - loss: 1.3695e-05 - accuracy: 1.0000 - val_loss: 0.0193 - val_accuracy: 0.9950\n"
     ]
    }
   ],
   "source": [
    "#train the network\n",
    "history=cnn.fit(X_train,y_train,epochs=10,validation_data=(X_test,y_test))"
   ]
  },
  {
   "cell_type": "code",
   "execution_count": 17,
   "id": "3c930603-721a-4938-ae82-1d76688bd15c",
   "metadata": {},
   "outputs": [
    {
     "data": {
      "image/png": "[encoded data removed]",
      "text/plain": [
       "<Figure size 432x288 with 1 Axes>"
      ]
     },
     "metadata": {
      "needs_background": "light"
     },
     "output_type": "display_data"
    }
   ],
   "source": [
    "plt.plot(history.history[\"loss\"],color=\"r\",marker=\"o\")\n",
    "plt.plot(history.history[\"val_loss\"],color=\"b\",marker=\"o\")\n",
    "plt.title(\"Loss while training\")\n",
    "plt.xlabel(\"Epoch\")\n",
    "plt.ylabel(\"Loss\")\n",
    "plt.legend([\"Training Loss\",\"Validation Loss\"])\n",
    "plt.show()"
   ]
  },
  {
   "cell_type": "code",
   "execution_count": 18,
   "id": "9f39a2ad-8238-42d6-acb1-3ef4f60433d7",
   "metadata": {},
   "outputs": [
    {
     "data": {
      "image/png": "[encoded data removed]",
      "text/plain": [
       "<Figure size 432x288 with 1 Axes>"
      ]
     },
     "metadata": {
      "needs_background": "light"
     },
     "output_type": "display_data"
    }
   ],
   "source": [
    "plt.plot(history.history[\"accuracy\"],color=\"r\",marker=\"o\")\n",
    "plt.plot(history.history[\"val_accuracy\"],color=\"b\",marker=\"o\")\n",
    "plt.title(\"Accuracy while training\")\n",
    "plt.xlabel(\"Epoch\")\n",
    "plt.ylabel(\"Accuracy\")\n",
    "plt.legend([\"Training Accuracy\",\"Validation Accuracy\"])\n",
    "plt.show()"
   ]
  },
  {
   "cell_type": "code",
   "execution_count": 19,
   "id": "2b6d4d8d-ed01-480a-abbe-13e0d90cada2",
   "metadata": {},
   "outputs": [],
   "source": [
    "y_pred=cnn.predict(X_test)>=0.5"
   ]
  },
  {
   "cell_type": "code",
   "execution_count": 20,
   "id": "1779d471-af7a-4db3-b80c-486d85ac9000",
   "metadata": {},
   "outputs": [
    {
     "data": {
      "image/png": "[encoded data removed]",
      "text/plain": [
       "<Figure size 432x288 with 2 Axes>"
      ]
     },
     "metadata": {
      "needs_background": "light"
     },
     "output_type": "display_data"
    }
   ],
   "source": [
    "import seaborn as sns\n",
    "sns.heatmap(confusion_matrix(y_test,y_pred),annot=True,fmt='g')\n",
    "plt.show()"
   ]
  },
  {
   "cell_type": "code",
   "execution_count": 21,
   "id": "83bb1dab-a4d8-43dc-83e8-c411f73088fd",
   "metadata": {},
   "outputs": [
    {
     "name": "stdout",
     "output_type": "stream",
     "text": [
      "0.9948186528497409\n"
     ]
    }
   ],
   "source": [
    "print(f1_score(y_test,y_pred))"
   ]
  },
  {
   "cell_type": "code",
   "execution_count": 22,
   "id": "a06b4e9c-fdf7-4027-bf83-c9509d175319",
   "metadata": {},
   "outputs": [
    {
     "name": "stdout",
     "output_type": "stream",
     "text": [
      "              precision    recall  f1-score   support\n",
      "\n",
      "           0       0.99      1.00      1.00       307\n",
      "           1       1.00      0.99      0.99       290\n",
      "\n",
      "    accuracy                           0.99       597\n",
      "   macro avg       1.00      0.99      0.99       597\n",
      "weighted avg       0.99      0.99      0.99       597\n",
      "\n"
     ]
    }
   ],
   "source": [
    "print(classification_report(y_test,y_pred))"
   ]
  },
  {
   "cell_type": "code",
   "execution_count": 23,
   "id": "ef4e60ad-b835-4d4f-bc30-ea2e2859ba5c",
   "metadata": {},
   "outputs": [
    {
     "name": "stdout",
     "output_type": "stream",
     "text": [
      "0.9949748743718593\n"
     ]
    }
   ],
   "source": [
    "print(accuracy_score(y_test,y_pred))"
   ]
  },
  {
   "cell_type": "markdown",
   "id": "7de14a28-c294-4352-b1d1-49f6c1e76bc5",
   "metadata": {},
   "source": [
    "We were able to acheive very good accuracy on this data set to use a single image to predict if it was from a page being flipped or not. We had 99.5% accuracy on the test data with only 3 out of 597 images being misclassified. The F1-score was also about 0.995. This model should be fine to use to detect if someone is flipping a page.\n",
    "\n",
    "Some further work that could be done is to take the images that are in the data, and apply some minor transformations to them (e.g. slightly rotated) to give some additional data to help in case the scanner is not at the same angle as it was in this experiment."
   ]
  },
  {
   "cell_type": "code",
   "execution_count": null,
   "id": "5fac4f4b-fccb-4893-b2c6-7e2da9c712cb",
   "metadata": {},
   "outputs": [],
   "source": []
  }
 ],
 "metadata": {
  "kernelspec": {
   "display_name": "Python 3 (ipykernel)",
   "language": "python",
   "name": "python3"
  },
  "language_info": {
   "codemirror_mode": {
    "name": "ipython",
    "version": 3
   },
   "file_extension": ".py",
   "mimetype": "text/x-python",
   "name": "python",
   "nbconvert_exporter": "python",
   "pygments_lexer": "ipython3",
   "version": "3.9.7"
  }
 },
 "nbformat": 4,
 "nbformat_minor": 5
}
